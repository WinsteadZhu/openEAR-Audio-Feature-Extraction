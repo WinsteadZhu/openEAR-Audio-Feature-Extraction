{
 "metadata": {
  "language_info": {
   "codemirror_mode": {
    "name": "ipython",
    "version": 3
   },
   "file_extension": ".py",
   "mimetype": "text/x-python",
   "name": "python",
   "nbconvert_exporter": "python",
   "pygments_lexer": "ipython3",
   "version": "3.6.10-final"
  },
  "orig_nbformat": 2,
  "kernelspec": {
   "name": "python3",
   "display_name": "Python 3",
   "language": "python"
  }
 },
 "nbformat": 4,
 "nbformat_minor": 2,
 "cells": [
  {
   "cell_type": "code",
   "execution_count": 1,
   "metadata": {},
   "outputs": [],
   "source": [
    "import json\n",
    "import os\n",
    "from tqdm import tqdm\n",
    "from collections import defaultdict"
   ]
  },
  {
   "cell_type": "code",
   "execution_count": 2,
   "metadata": {},
   "outputs": [],
   "source": [
    "with open('/Users/winsteadx/Desktop/Podcast/output.data') as f:\n",
    "    features = f.readlines()"
   ]
  },
  {
   "cell_type": "code",
   "execution_count": 5,
   "metadata": {},
   "outputs": [
    {
     "output_type": "execute_result",
     "data": {
      "text/plain": [
       "991"
      ]
     },
     "metadata": {},
     "execution_count": 5
    }
   ],
   "source": [
    "len(features[0].split(','))"
   ]
  },
  {
   "cell_type": "code",
   "execution_count": 6,
   "metadata": {},
   "outputs": [],
   "source": [
    "ep_features = defaultdict(lambda: defaultdict(lambda: defaultdict(float)))"
   ]
  },
  {
   "cell_type": "code",
   "execution_count": 7,
   "metadata": {
    "tags": []
   },
   "outputs": [],
   "source": [
    "for line in features:\n",
    "    line = line.split(',')\n",
    "    \n",
    "    ep_name = line[0].split('_')[-2]\n",
    "    seg_num = int(line[0].split('_')[-1][:-1])\n",
    "    \n",
    "    # intensity\n",
    "    ep_features[ep_name][seg_num]['pcm_intensity_sma_max'] = float(line[2])\n",
    "    ep_features[ep_name][seg_num]['pcm_intensity_sma_min'] = float(line[3])\n",
    "    ep_features[ep_name][seg_num]['pcm_intensity_sma_range'] = float(line[4])\n",
    "    ep_features[ep_name][seg_num]['pcm_intensity_sma_amean'] = float(line[7])\n",
    "\n",
    "    # loudness\n",
    "    ep_features[ep_name][seg_num]['pcm_loudness_sma_max'] = float(line[21])\n",
    "    ep_features[ep_name][seg_num]['pcm_loudness_sma_min'] = float(line[22])\n",
    "    ep_features[ep_name][seg_num]['pcm_loudness_sma_range'] = float(line[23])\n",
    "    ep_features[ep_name][seg_num]['pcm_loudness_sma_amean'] = float(line[26])\n",
    "\n",
    "    # mfcc1\n",
    "    ep_features[ep_name][seg_num]['mfcc_sma_1_max'] = float(line[40])\n",
    "    ep_features[ep_name][seg_num]['mfcc_sma_1_min'] = float(line[41])\n",
    "    ep_features[ep_name][seg_num]['mfcc_sma_1_range'] = float(line[42])\n",
    "    ep_features[ep_name][seg_num]['mfcc_sma_1_amean'] = float(line[45])\n",
    "\n",
    "    # mfcc2\n",
    "    ep_features[ep_name][seg_num]['mfcc_sma_2_max'] = float(line[59])\n",
    "    ep_features[ep_name][seg_num]['mfcc_sma_2_min'] = float(line[60])\n",
    "    ep_features[ep_name][seg_num]['mfcc_sma_2_range'] = float(line[61])\n",
    "    ep_features[ep_name][seg_num]['mfcc_sma_2_amean'] = float(line[64])\n",
    "\n",
    "    # mfcc3\n",
    "    ep_features[ep_name][seg_num]['mfcc_sma_3_max'] = float(line[78])\n",
    "    ep_features[ep_name][seg_num]['mfcc_sma_3_min'] = float(line[79])\n",
    "    ep_features[ep_name][seg_num]['mfcc_sma_3_range'] = float(line[80])\n",
    "    ep_features[ep_name][seg_num]['mfcc_sma_3_amean'] = float(line[83])\n",
    "\n",
    "    # pitch (F0)\n",
    "    ep_features[ep_name][seg_num]['F0_sma_max'] = float(line[458])\n",
    "    ep_features[ep_name][seg_num]['F0_sma_min'] = float(line[459])\n",
    "    ep_features[ep_name][seg_num]['F0_sma_range'] = float(line[460])\n",
    "    ep_features[ep_name][seg_num]['F0_sma_amean'] = float(line[463])\n",
    "\n",
    "    # probability of voicing\n",
    "    ep_features[ep_name][seg_num]['voiceProb_sma_max'] = float(line[439])\n",
    "    ep_features[ep_name][seg_num]['voiceProb_sma_min'] = float(line[440])\n",
    "    ep_features[ep_name][seg_num]['voiceProb_sma_range'] = float(line[441])\n",
    "    ep_features[ep_name][seg_num]['voiceProb_sma_amean'] = float(line[444])\n",
    "\n",
    "    # F0 envelope\n",
    "    ep_features[ep_name][seg_num]['F0env_sma_max'] = float(line[477])\n",
    "    ep_features[ep_name][seg_num]['F0env_sma_min'] = float(line[478])\n",
    "    ep_features[ep_name][seg_num]['F0env_sma_range'] = float(line[479])\n",
    "    ep_features[ep_name][seg_num]['F0env_sma_amean'] = float(line[482])\n",
    "\n",
    "    # LSF (Line Spectral Frequencies) 1\n",
    "    ep_features[ep_name][seg_num]['lspFreq_sma_0_max'] = float(line[268])\n",
    "    ep_features[ep_name][seg_num]['lspFreq_sma_0_min'] = float(line[269])\n",
    "    ep_features[ep_name][seg_num]['lspFreq_sma_0_range'] = float(line[270])\n",
    "    ep_features[ep_name][seg_num]['lspFreq_sma_0_amean'] = float(line[273])\n",
    "\n",
    "    # LSF (Line Spectral Frequencies) 2\n",
    "    ep_features[ep_name][seg_num]['lspFreq_sma_1_max'] = float(line[287])\n",
    "    ep_features[ep_name][seg_num]['lspFreq_sma_1_min'] = float(line[288])\n",
    "    ep_features[ep_name][seg_num]['lspFreq_sma_1_range'] = float(line[289])\n",
    "    ep_features[ep_name][seg_num]['lspFreq_sma_1_amean'] = float(line[292])\n",
    "\n",
    "    # Zero-Crossing Rate\n",
    "    ep_features[ep_name][seg_num]['pcm_zcr_sma_max'] = float(line[420])\n",
    "    ep_features[ep_name][seg_num]['pcm_zcr_sma_min'] = float(line[421])\n",
    "    ep_features[ep_name][seg_num]['pcm_zcr_sma_range'] = float(line[422])\n",
    "    ep_features[ep_name][seg_num]['pcm_zcr_sma_amean'] = float(line[425])"
   ]
  },
  {
   "cell_type": "code",
   "execution_count": 10,
   "metadata": {},
   "outputs": [
    {
     "output_type": "execute_result",
     "data": {
      "text/plain": [
       "0.0001410256"
      ]
     },
     "metadata": {},
     "execution_count": 10
    }
   ],
   "source": [
    "ep_features['76pRE1NO1ATRU2fJqWoxXP'][0]['pcm_intensity_sma_max']"
   ]
  },
  {
   "cell_type": "code",
   "execution_count": 11,
   "metadata": {},
   "outputs": [],
   "source": [
    "with open('/Users/winsteadx/Desktop/audio_process/feature_extraction/episodes_complex_v5_6_0-3.json', encoding='utf-8') as f:\n",
    "    json_file = json.load(f)"
   ]
  },
  {
   "cell_type": "code",
   "execution_count": 12,
   "metadata": {},
   "outputs": [
    {
     "output_type": "stream",
     "name": "stderr",
     "text": [
      "100%|██████████| 855/855 [00:00<00:00, 1231.30it/s]\n"
     ]
    }
   ],
   "source": [
    "for ep_dict in tqdm(json_file['episodes_speaker']):\n",
    "    ep_name = ep_dict['episode_name']\n",
    "    for i in range(len(ep_dict['transcripts'])):\n",
    "        trans_dict = ep_dict['transcripts'][i]\n",
    "        \n",
    "        for feature in ep_features[ep_name][i]:\n",
    "            trans_dict[feature] = ep_features[ep_name][i][feature]"
   ]
  },
  {
   "cell_type": "code",
   "execution_count": 13,
   "metadata": {},
   "outputs": [],
   "source": [
    "with open('/Users/winsteadx/Desktop/audio_process/feature_extraction/episodes_complex_v6_6_0-3.json', 'w', encoding='utf-8') as f:\n",
    "    json.dump(json_file, f, ensure_ascii=False, indent=4)"
   ]
  },
  {
   "cell_type": "code",
   "execution_count": null,
   "metadata": {},
   "outputs": [],
   "source": []
  }
 ]
}