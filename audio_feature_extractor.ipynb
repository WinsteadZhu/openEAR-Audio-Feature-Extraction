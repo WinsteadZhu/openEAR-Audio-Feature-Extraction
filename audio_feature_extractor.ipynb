{
 "metadata": {
  "language_info": {
   "codemirror_mode": {
    "name": "ipython",
    "version": 3
   },
   "file_extension": ".py",
   "mimetype": "text/x-python",
   "name": "python",
   "nbconvert_exporter": "python",
   "pygments_lexer": "ipython3",
   "version": "3.6.10-final"
  },
  "orig_nbformat": 2,
  "kernelspec": {
   "name": "python3",
   "display_name": "Python 3.6.10 64-bit ('audio-3.6.10')",
   "metadata": {
    "interpreter": {
     "hash": "3654596e253be41413dde7c1d70d7852bd37f69af9a2f5bcba24a151ccb347b4"
    }
   }
  }
 },
 "nbformat": 4,
 "nbformat_minor": 2,
 "cells": [
  {
   "cell_type": "code",
   "execution_count": 87,
   "metadata": {},
   "outputs": [],
   "source": [
    "import json\n",
    "import os\n",
    "from tqdm import tqdm\n",
    "from pydub import AudioSegment\n",
    "from ipywidgets import IntProgress\n",
    "from collections import defaultdict"
   ]
  },
  {
   "cell_type": "code",
   "execution_count": 88,
   "metadata": {},
   "outputs": [],
   "source": [
    "with open('/Users/winsteadx/Desktop/audio_process/feature_extraction/episodes_complex_v5_6_0-3.json', encoding='utf-8') as f:\n",
    "    json_file = json.load(f)"
   ]
  },
  {
   "cell_type": "code",
   "execution_count": 89,
   "metadata": {},
   "outputs": [],
   "source": [
    "ep_segs = defaultdict(list)"
   ]
  },
  {
   "cell_type": "code",
   "execution_count": 90,
   "metadata": {},
   "outputs": [
    {
     "output_type": "stream",
     "name": "stderr",
     "text": [
      "100%|██████████| 855/855 [00:00<00:00, 10180.26it/s]\n"
     ]
    }
   ],
   "source": [
    "for ep_dict in tqdm(json_file['episodes_speaker']):\n",
    "    ep_name = ep_dict['episode_name']\n",
    "    for trans_dict in ep_dict['transcripts']:\n",
    "        start_time = float(trans_dict['start_time'][:-1])\n",
    "        end_time = float(trans_dict['end_time'][:-1])\n",
    "        ep_segs[ep_name].append((start_time, end_time))"
   ]
  },
  {
   "cell_type": "code",
   "execution_count": 91,
   "metadata": {},
   "outputs": [
    {
     "output_type": "execute_result",
     "data": {
      "text/plain": [
       "855"
      ]
     },
     "metadata": {},
     "execution_count": 91
    }
   ],
   "source": [
    "len(ep_segs)"
   ]
  },
  {
   "cell_type": "code",
   "execution_count": 92,
   "metadata": {},
   "outputs": [
    {
     "output_type": "execute_result",
     "data": {
      "text/plain": [
       "[(1.2, 30.0),\n",
       " (30.2, 59.9),\n",
       " (60.1, 90.0),\n",
       " (90.1, 119.9),\n",
       " (120.1, 150.0),\n",
       " (150.3, 179.9),\n",
       " (180.0, 209.9),\n",
       " (210.1, 239.7),\n",
       " (240.1, 269.9),\n",
       " (270.1, 291.1),\n",
       " (292.1, 321.7),\n",
       " (321.9, 351.7),\n",
       " (351.8, 381.7),\n",
       " (382.1, 411.7),\n",
       " (411.8, 441.7),\n",
       " (442.6, 469.9),\n",
       " (471.0, 500.7),\n",
       " (500.9, 530.4),\n",
       " (530.8, 560.5),\n",
       " (560.8, 590.6),\n",
       " (590.8, 620.6),\n",
       " (620.9, 650.6),\n",
       " (650.7, 680.6),\n",
       " (681.3, 710.8),\n",
       " (711.0, 740.7),\n",
       " (740.9, 770.8),\n",
       " (771.1, 778.5),\n",
       " (779.8, 801.2),\n",
       " (802.1, 831.8),\n",
       " (831.9, 861.7),\n",
       " (861.9, 888.5),\n",
       " (889.4, 919.0),\n",
       " (919.2, 949.0),\n",
       " (949.2, 979.0),\n",
       " (979.2, 1009.0),\n",
       " (1009.1, 1018.7),\n",
       " (1019.7, 1049.3),\n",
       " (1049.5, 1079.2),\n",
       " (1079.4, 1106.3),\n",
       " (1107.2, 1131.1),\n",
       " (1132.1, 1161.8),\n",
       " (1162.0, 1191.7),\n",
       " (1192.0, 1221.8),\n",
       " (1222.1, 1251.5),\n",
       " (1251.9, 1281.7),\n",
       " (1281.9, 1300.2),\n",
       " (1301.4, 1331.0),\n",
       " (1331.2, 1358.1),\n",
       " (1359.1, 1388.7),\n",
       " (1389.1, 1418.7),\n",
       " (1418.8, 1448.7),\n",
       " (1448.9, 1478.6),\n",
       " (1478.8, 1508.7),\n",
       " (1508.9, 1525.4),\n",
       " (1526.2, 1555.9),\n",
       " (1556.1, 1583.3),\n",
       " (1584.1, 1613.7),\n",
       " (1614.0, 1643.7),\n",
       " (1643.9, 1673.7),\n",
       " (1673.9, 1703.7),\n",
       " (1703.8, 1733.7),\n",
       " (1733.9, 1763.7),\n",
       " (1764.0, 1793.7),\n",
       " (1793.9, 1823.7),\n",
       " (1823.8, 1853.7),\n",
       " (1854.0, 1883.7),\n",
       " (1883.8, 1913.6),\n",
       " (1913.9, 1943.5),\n",
       " (1943.8, 1973.7),\n",
       " (1974.0, 1981.2),\n",
       " (1982.4, 2012.1),\n",
       " (2012.3, 2042.0),\n",
       " (2042.2, 2072.1),\n",
       " (2072.2, 2102.0),\n",
       " (2102.2, 2132.0),\n",
       " (2132.2, 2161.9),\n",
       " (2162.1, 2192.1),\n",
       " (2192.2, 2221.6),\n",
       " (2222.1, 2242.1),\n",
       " (2243.2, 2272.4),\n",
       " (2272.5, 2302.3),\n",
       " (2302.5, 2314.8)]"
      ]
     },
     "metadata": {},
     "execution_count": 92
    }
   ],
   "source": [
    "ep_segs[\"4DaECd4OBdrc3gpmRqhZFX\"]"
   ]
  },
  {
   "cell_type": "code",
   "execution_count": 93,
   "metadata": {},
   "outputs": [],
   "source": [
    "rootdir = '/Users/winsteadx/Desktop/Podcast/podcasts-audio/6'"
   ]
  },
  {
   "cell_type": "code",
   "execution_count": 94,
   "metadata": {},
   "outputs": [],
   "source": [
    "audios = []"
   ]
  },
  {
   "cell_type": "code",
   "execution_count": 95,
   "metadata": {},
   "outputs": [
    {
     "output_type": "stream",
     "name": "stderr",
     "text": [
      "163it [00:00, 5031.51it/s]\n"
     ]
    }
   ],
   "source": [
    "for subdir, dirs, files in tqdm(os.walk(rootdir)):\n",
    "    for file in files:\n",
    "        #print(os.path.join(subdir, file))\n",
    "        filepath = subdir + os.sep + file\n",
    "        audios.append(filepath)"
   ]
  },
  {
   "cell_type": "code",
   "execution_count": 96,
   "metadata": {},
   "outputs": [
    {
     "output_type": "execute_result",
     "data": {
      "text/plain": [
       "'/Users/winsteadx/Desktop/Podcast/podcasts-audio/6/0/show_60Co02kHGFyvneYPY4NPZS/76pRE1NO1ATRU2fJqWoxXP.ogg'"
      ]
     },
     "metadata": {},
     "execution_count": 96
    }
   ],
   "source": [
    "audios[2]"
   ]
  },
  {
   "cell_type": "code",
   "execution_count": 97,
   "metadata": {},
   "outputs": [],
   "source": [
    "prefix = '/Users/winsteadx/Desktop/Podcast/podcasts-segments/'\n",
    "top_number = audios[2].split('/')[6]\n",
    "sub_number = audios[2].split('/')[7]\n",
    "show_name = audios[2].split('/')[8]\n",
    "ep_name = audios[2].split('/')[-1].split('.')[0]"
   ]
  },
  {
   "cell_type": "code",
   "execution_count": 98,
   "metadata": {},
   "outputs": [
    {
     "output_type": "execute_result",
     "data": {
      "text/plain": [
       "'/Users/winsteadx/Desktop/Podcast/podcasts-segments/6/0/show_60Co02kHGFyvneYPY4NPZS/76pRE1NO1ATRU2fJqWoxXP_129.wav'"
      ]
     },
     "metadata": {},
     "execution_count": 98
    }
   ],
   "source": [
    "prefix+top_number+'/'+sub_number+'/'+show_name+'/'+ep_name+'_'+str(seg_count)+\".wav\""
   ]
  },
  {
   "cell_type": "code",
   "execution_count": 101,
   "metadata": {},
   "outputs": [
    {
     "output_type": "stream",
     "name": "stderr",
     "text": [
      "100%|██████████| 858/858 [1:26:19<00:00,  6.04s/it]\n"
     ]
    }
   ],
   "source": [
    "for audio in tqdm(audios):\n",
    "    if audio.endswith('.ogg'):\n",
    "        #folder_path = '/'.join(audio.split('/')[:5] + ['podcasts-audio-segments'] + audio.split('/')[6:9])\n",
    "        prefix = '/Users/winsteadx/Desktop/Podcast/podcasts-segments/'\n",
    "        show_name = audio.split('/')[8]\n",
    "        ep_name = audio.split('/')[-1].split('.')[0]\n",
    "        sound = AudioSegment.from_ogg(audio)\n",
    "        sound = sound.set_frame_rate(16000)\n",
    "        seg_count = 0\n",
    "        for start_time, end_time in ep_segs[ep_name]:\n",
    "            # AudioSegment process audio in miliseconds\n",
    "            segment = sound[start_time*1000:end_time*1000]\n",
    "            output_name = prefix+show_name+'_'+ep_name+'_'+str(seg_count)+\".wav\"\n",
    "            segment.export(output_name, format=\"wav\")\n",
    "            seg_count += 1"
   ]
  },
  {
   "cell_type": "code",
   "execution_count": null,
   "metadata": {},
   "outputs": [],
   "source": []
  }
 ]
}